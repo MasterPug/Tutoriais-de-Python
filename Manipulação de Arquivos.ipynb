{
 "cells": [
  {
   "cell_type": "markdown",
   "metadata": {},
   "source": [
    "![logo](https://img.elo7.com.br/product/main/1C78BA7/poster-brasao-uff-advogado.jpg)\n",
    "\n",
    "    \n",
    " \n",
    " ### Professora orientadora: Leila weitzel\n",
    " ### Alunos: Ruan de Almeida"
   ]
  },
  {
   "cell_type": "markdown",
   "metadata": {},
   "source": [
    "\n",
    "<center><img src=\"https://pt.seaicons.com/wp-content/uploads/2015/07/Other-python-icon.png\" width=\"100px\" height=\"100px\">\n",
    "  \n",
    " \n",
    "Iremos ao longo desse tutorial explicar como será feito a abertura e a manipução de arquivos através da linguagem Python, mostraremos como é fácil e sem complicação essa manipulação.\n",
    "\n",
    "Além de ensinarmos a instalar e a realizar operações básicas em duas bibliotecas especificas, a matplot que é extremamente recomendada para a construção de gráficos e outros afins, e a Numpy que ajuda na manipulação de matrizes e arrays multidimensionais sendo assim uma exelente escolha para pessoas que trabalham com um grande volume de dados.\n",
    "\n",
    "## [Abrindo e manipulando arquivos]\n",
    "\n",
    "Em diferentes sistemas possuem diferentes separadores para indicar o destino das pastas, que podem ser ''\\'' como é no Windows ou ''/'' como é no linux e no OS X. Para a abertura de arquivos vc primeiro deve saber indicar aonde o arquivo está para que possa abri-lo. como  o modulo **os** temos as funções para esse trabalho. \n",
    "Através do os.getcwd(), é retornado o diretório corrente ao qual estamos localizados(caminho absoluto), para realizar a alteração desse diretório, pode ser feito através do os.chdir(), além do que se tiver em dúvida da divisão citada anteriormente de seu sistema, é possível utilizar o os.path.join() que retorna o endereço com os separadores corretos."
   ]
  },
  {
   "cell_type": "code",
   "execution_count": 5,
   "metadata": {},
   "outputs": [
    {
     "name": "stdout",
     "output_type": "stream",
     "text": [
      "Esse será o diretório atual: \n"
     ]
    },
    {
     "data": {
      "text/plain": [
       "'C:\\\\Users\\\\Ruan\\\\Desktop\\\\Bolsa desenvolvimento'"
      ]
     },
     "execution_count": 5,
     "metadata": {},
     "output_type": "execute_result"
    }
   ],
   "source": [
    "import os\n",
    "print('Esse será o diretório atual: ')\n",
    "os.getcwd()"
   ]
  },
  {
   "cell_type": "code",
   "execution_count": 6,
   "metadata": {},
   "outputs": [
    {
     "name": "stdout",
     "output_type": "stream",
     "text": [
      "Você pode alterar especificando para na próxima função: \n"
     ]
    },
    {
     "data": {
      "text/plain": [
       "'C:\\\\Users\\\\Ruan\\\\Desktop\\\\Bolsa desenvolvimento'"
      ]
     },
     "execution_count": 6,
     "metadata": {},
     "output_type": "execute_result"
    }
   ],
   "source": [
    "print('Você pode alterar especificando para na próxima função: ')\n",
    "os.chdir('C:\\\\Users\\\\Ruan\\\\Desktop\\\\Bolsa desenvolvimento')\n",
    "os.getcwd()"
   ]
  },
  {
   "cell_type": "markdown",
   "metadata": {},
   "source": [
    "#### Agora se por acaso não souber o separador de caminhos, é so utilizar o os.path.join() especificando o caminho que deseja"
   ]
  },
  {
   "cell_type": "code",
   "execution_count": 7,
   "metadata": {},
   "outputs": [
    {
     "data": {
      "text/plain": [
       "'Users\\\\Ruan\\\\Desktop\\\\Bolsa desenvolvimento'"
      ]
     },
     "execution_count": 7,
     "metadata": {},
     "output_type": "execute_result"
    }
   ],
   "source": [
    "os.path.join('Users', 'Ruan', 'Desktop', 'Bolsa desenvolvimento')"
   ]
  },
  {
   "cell_type": "markdown",
   "metadata": {},
   "source": [
    "#### Agora temos outro tipo de destino, o destino relativo que diz respeito ao caminho desginado a pasta do programa atual ao qual estamos modificando. Atráves do modulo **os** e esse destino relativo temos algumas funções importantes."
   ]
  },
  {
   "cell_type": "markdown",
   "metadata": {},
   "source": [
    "#### Dois comandos também importantes são os os.path.getsize() que retorna o tamanho do arquivo em bytes no caminho especificado e o os.listdir() que retorna uma lista de strings para cada arquivo dentro do caminho caminho absoluto."
   ]
  },
  {
   "cell_type": "code",
   "execution_count": 8,
   "metadata": {},
   "outputs": [
    {
     "name": "stdout",
     "output_type": "stream",
     "text": [
      "62163\n"
     ]
    }
   ],
   "source": [
    "totalsize= 0\n",
    "for nomes in os.listdir('C:\\\\Users\\\\Ruan\\\\Desktop\\\\Bolsa desenvolvimento\\\\Análise de dados'):#Aqui pegamos todos os \n",
    "#arquivos nesse path.\n",
    "    totalsize = totalsize + os.path.getsize('C:\\\\Users\\\\Ruan\\\\Desktop\\\\Bolsa desenvolvimento\\\\Análise de dados\\\\' + nomes)\n",
    "#E somamos até chegar no tamanho total.\n",
    "print(totalsize)"
   ]
  },
  {
   "cell_type": "markdown",
   "metadata": {},
   "source": [
    "Para verificar a validade dos caminhos especificados temos os comandos:"
   ]
  },
  {
   "cell_type": "code",
   "execution_count": 9,
   "metadata": {},
   "outputs": [
    {
     "name": "stdout",
     "output_type": "stream",
     "text": [
      "exists\n",
      "isfile\n",
      "isdir\n"
     ]
    },
    {
     "data": {
      "text/plain": [
       "True"
      ]
     },
     "execution_count": 9,
     "metadata": {},
     "output_type": "execute_result"
    }
   ],
   "source": [
    "print('exists') \n",
    "os.path.exists('C:\\\\Users\\\\Ruan\\\\Desktop\\\\Bolsa desenvolvimento\\\\Análise de dados')\n",
    "#Retorna True se o caminho especificado uma pasta ou um arquivo\n",
    "print('isfile')\n",
    "os.path.isfile('C:\\\\Users\\\\Ruan\\\\Desktop\\\\Bolsa desenvolvimento\\\\Análise de dados')\n",
    "#Retorna True se o caminho especificado levar a um arquivo\n",
    "print('isdir')\n",
    "os.path.isdir('C:\\\\Users\\\\Ruan\\\\Desktop\\\\Bolsa desenvolvimento\\\\Análise de dados')\n",
    "#Retorna True se o caminho especificado levar a uma pasta "
   ]
  },
  {
   "cell_type": "markdown",
   "metadata": {},
   "source": [
    "### A abertura de arquivos, a escrita e o fechamento deles é feito atráves dos comandos, open(),write() e close().\n",
    "O open() retorna um objeto do tipo file, e pode ser aberto para realizar a leitura do arquvivo especificando na função ou aberto como escrita. \n",
    "Ao não especficicar nada, vai ser considerado apenas como leitura. "
   ]
  },
  {
   "cell_type": "code",
   "execution_count": 10,
   "metadata": {},
   "outputs": [
    {
     "data": {
      "text/plain": [
       "'Abacaxi \\nManteiga não é saúdavel \\n'"
      ]
     },
     "execution_count": 10,
     "metadata": {},
     "output_type": "execute_result"
    }
   ],
   "source": [
    "arq = open(os.getcwd() + '\\\\arq1.txt')\n",
    "leitura = arq.read()\n",
    "leitura"
   ]
  },
  {
   "cell_type": "markdown",
   "metadata": {},
   "source": [
    "### A abertura de arquivos csv é feito pelo comando csv.reader, atráves do módulo csv."
   ]
  },
  {
   "cell_type": "code",
   "execution_count": 14,
   "metadata": {},
   "outputs": [],
   "source": [
    "import csv\n",
    "arquivo = open('departamentos.csv')\n",
    "linhas = csv.reader(arquivo)"
   ]
  },
  {
   "cell_type": "markdown",
   "metadata": {},
   "source": [
    "#### Ao abrir como escrita, todo o conteúdo que estiver no arquivo será apagado, e o arquivo irá retornar com oque você especificou para ser escrito, e será printado o número total de caracteres escritos."
   ]
  },
  {
   "cell_type": "code",
   "execution_count": 15,
   "metadata": {},
   "outputs": [
    {
     "data": {
      "text/plain": [
       "9"
      ]
     },
     "execution_count": 15,
     "metadata": {},
     "output_type": "execute_result"
    }
   ],
   "source": [
    "arq = open(os.getcwd() + '\\\\arq1.txt', 'w')\n",
    "arq.write('Abacaxi \\n')"
   ]
  },
  {
   "cell_type": "markdown",
   "metadata": {},
   "source": [
    "#### Agora para abrir um arquivo sem apagar oque já está escrito, é preciso abrir no modo **append**"
   ]
  },
  {
   "cell_type": "code",
   "execution_count": 16,
   "metadata": {},
   "outputs": [
    {
     "data": {
      "text/plain": [
       "25"
      ]
     },
     "execution_count": 16,
     "metadata": {},
     "output_type": "execute_result"
    }
   ],
   "source": [
    "arq = open(os.getcwd() + '\\\\arq1.txt', 'a')\n",
    "arq.write('Manteiga não é saúdavel \\n')"
   ]
  },
  {
   "cell_type": "markdown",
   "metadata": {},
   "source": [
    "### [Arquivos Binários]"
   ]
  },
  {
   "cell_type": "markdown",
   "metadata": {},
   "source": [
    "Você pode salvar em arquivos binários atráves do módulo **shelve**, ele fornece metódos aos quais ajuda na manipulação desses arquvios.\n",
    "    O .open(), ajuda na abertura de um arquivo, o type você define o tipo do arquivo, list(.keys()) mostra as possíveis chaves para as listas que estiverem no arquivo, e o list(.values()) apresenta o conteúdo que estiver nessas listas."
   ]
  },
  {
   "cell_type": "code",
   "execution_count": 17,
   "metadata": {},
   "outputs": [
    {
     "data": {
      "text/plain": [
       "[['windows', 'ubuntu', 'arch', 'mac']]"
      ]
     },
     "execution_count": 17,
     "metadata": {},
     "output_type": "execute_result"
    }
   ],
   "source": [
    "import shelve\n",
    "binari = shelve.open('Teste1')\n",
    "type(binari)\n",
    "sistemas = ['windows', 'ubuntu', 'arch', 'mac']\n",
    "binari['sistemas'] = sistemas\n",
    "list(binari.keys())#mostra as possiveis chaves de dicionarios que tiverem no arquivo\n",
    "list(binari.values())#mostra os valores que estão no arquivo"
   ]
  },
  {
   "cell_type": "markdown",
   "metadata": {},
   "source": [
    "O arquivo binário funciona como se fosse uma váriavel fixa que pode ser aberta no sisma opearacional.\n"
   ]
  },
  {
   "cell_type": "markdown",
   "metadata": {},
   "source": [
    "O modulo **shutil**, possui algumas funcionalidades que normalmente ustilizamos em shell que é de copiar, mover, renomear e deletar arquivos."
   ]
  },
  {
   "cell_type": "code",
   "execution_count": 18,
   "metadata": {},
   "outputs": [
    {
     "data": {
      "text/plain": [
       "'fritura\\\\PLN.pdf'"
      ]
     },
     "execution_count": 18,
     "metadata": {},
     "output_type": "execute_result"
    }
   ],
   "source": [
    "import shutil, os\n",
    "shutil.copy('PLN.pdf', 'fritura')"
   ]
  },
  {
   "cell_type": "code",
   "execution_count": 21,
   "metadata": {},
   "outputs": [
    {
     "ename": "Error",
     "evalue": "Destination path 'fritura/arq1.txt' already exists",
     "output_type": "error",
     "traceback": [
      "\u001b[1;31m---------------------------------------------------------------------------\u001b[0m",
      "\u001b[1;31mError\u001b[0m                                     Traceback (most recent call last)",
      "\u001b[1;32m<ipython-input-21-295dea26ba12>\u001b[0m in \u001b[0;36m<module>\u001b[1;34m\u001b[0m\n\u001b[0;32m      1\u001b[0m \u001b[1;32mimport\u001b[0m \u001b[0mshutil\u001b[0m\u001b[1;33m\u001b[0m\u001b[1;33m\u001b[0m\u001b[0m\n\u001b[1;32m----> 2\u001b[1;33m \u001b[0mshutil\u001b[0m\u001b[1;33m.\u001b[0m\u001b[0mmove\u001b[0m\u001b[1;33m(\u001b[0m\u001b[1;34m'arq1.txt'\u001b[0m\u001b[1;33m,\u001b[0m \u001b[1;34m'fritura/'\u001b[0m\u001b[1;33m)\u001b[0m\u001b[1;33m\u001b[0m\u001b[1;33m\u001b[0m\u001b[0m\n\u001b[0m",
      "\u001b[1;32m~\\Anaconda3\\lib\\shutil.py\u001b[0m in \u001b[0;36mmove\u001b[1;34m(src, dst, copy_function)\u001b[0m\n\u001b[0;32m    559\u001b[0m         \u001b[0mreal_dst\u001b[0m \u001b[1;33m=\u001b[0m \u001b[0mos\u001b[0m\u001b[1;33m.\u001b[0m\u001b[0mpath\u001b[0m\u001b[1;33m.\u001b[0m\u001b[0mjoin\u001b[0m\u001b[1;33m(\u001b[0m\u001b[0mdst\u001b[0m\u001b[1;33m,\u001b[0m \u001b[0m_basename\u001b[0m\u001b[1;33m(\u001b[0m\u001b[0msrc\u001b[0m\u001b[1;33m)\u001b[0m\u001b[1;33m)\u001b[0m\u001b[1;33m\u001b[0m\u001b[1;33m\u001b[0m\u001b[0m\n\u001b[0;32m    560\u001b[0m         \u001b[1;32mif\u001b[0m \u001b[0mos\u001b[0m\u001b[1;33m.\u001b[0m\u001b[0mpath\u001b[0m\u001b[1;33m.\u001b[0m\u001b[0mexists\u001b[0m\u001b[1;33m(\u001b[0m\u001b[0mreal_dst\u001b[0m\u001b[1;33m)\u001b[0m\u001b[1;33m:\u001b[0m\u001b[1;33m\u001b[0m\u001b[1;33m\u001b[0m\u001b[0m\n\u001b[1;32m--> 561\u001b[1;33m             \u001b[1;32mraise\u001b[0m \u001b[0mError\u001b[0m\u001b[1;33m(\u001b[0m\u001b[1;34m\"Destination path '%s' already exists\"\u001b[0m \u001b[1;33m%\u001b[0m \u001b[0mreal_dst\u001b[0m\u001b[1;33m)\u001b[0m\u001b[1;33m\u001b[0m\u001b[1;33m\u001b[0m\u001b[0m\n\u001b[0m\u001b[0;32m    562\u001b[0m     \u001b[1;32mtry\u001b[0m\u001b[1;33m:\u001b[0m\u001b[1;33m\u001b[0m\u001b[1;33m\u001b[0m\u001b[0m\n\u001b[0;32m    563\u001b[0m         \u001b[0mos\u001b[0m\u001b[1;33m.\u001b[0m\u001b[0mrename\u001b[0m\u001b[1;33m(\u001b[0m\u001b[0msrc\u001b[0m\u001b[1;33m,\u001b[0m \u001b[0mreal_dst\u001b[0m\u001b[1;33m)\u001b[0m\u001b[1;33m\u001b[0m\u001b[1;33m\u001b[0m\u001b[0m\n",
      "\u001b[1;31mError\u001b[0m: Destination path 'fritura/arq1.txt' already exists"
     ]
    }
   ],
   "source": [
    "import shutil\n",
    "shutil.move('arq1.txt', 'fritura')"
   ]
  },
  {
   "cell_type": "markdown",
   "metadata": {},
   "source": [
    "## [Exercicios]"
   ]
  },
  {
   "cell_type": "markdown",
   "metadata": {},
   "source": [
    "1. Faça um programa que leia um arquivo texto contendo uma lista de endereços IP e gere um outro arquivo, contendo um relatório dos endereços IP válidos e inválidos.\n",
    "\n",
    "    O arquivo de entrada possui o seguinte formato: \n",
    ">200.135.80.9<br>\n",
    "192.168.1.1<br>\n",
    "8.35.67.74<br>\n",
    "257.32.4.5<br>\n",
    "85.345.1.2<br>\n",
    "1.2.3.4<br>\n",
    "9.8.234.5<br>\n",
    "192.168.0.256<br>\n",
    "\n",
    "    O arquivo de saída possui o seguinte formato: \n",
    ">[Endereços válidos:]<br>\n",
    "200.135.80.9<br>\n",
    "192.168.1.1<br>\n",
    "8.35.67.74<br>\n",
    "1.2.3.4<br><br>\n",
    ">[Endereços inválidos:]<br>\n",
    "257.32.4.5<br>\n",
    "85.345.1.2<br>\n",
    "9.8.234.5<br>\n",
    "192.168.0.256<br>\n",
    "\n",
    "\n",
    "2. A ACME Inc., uma empresa de 500 funcionários, está tendo problemas de espaço em disco no seu servidor de arquivos. Para tentar resolver este problema, o Administrador de Rede precisa saber qual o espaço ocupado pelos usuários, e identificar os usuários com maior espaço ocupado. Através de um programa, baixado da Internet, ele conseguiu gerar o seguinte arquivo, chamado \"usuarios.txt\": \n",
    "\n",
    "\n",
    "| Nome        |   Número    |\n",
    "| ----------- | ----------- |\n",
    "| alexandre   | 456123789   |\n",
    "| anderson    | 1245698456  |\n",
    "| antonio     | 123456456   |\n",
    "| carlos      | 91257581    |\n",
    "| cesar       | 987458      |\n",
    "| rosemary    | 789456125   |\n",
    "\n",
    "Neste arquivo, o nome do usuário possui 15 caracteres. A partir deste arquivo, você deve criar um programa que gere um relatório, chamado \"relatório.txt\", no seguinte formato: \n",
    "\n",
    "<center>  ACME Inc.               Uso do espaço em disco pelos usuários\n",
    "<center>  ------------------------------------------------------------------------\n",
    "\n",
    "Nr.|   Usuário    |  Espaço utilizado |    % do uso  |\n",
    "-- | ------------ |  ------------     | ------------ |\n",
    "1  |   alexandre  |   434,99 MB       |     16,85%   |\n",
    "2  |   anderson   |  1187,99 MB       |     46,02%   |\n",
    "3  |   antonio    |   117,73 MB       |      4,56%   |\n",
    "4  |   carlos     |    87,03 MB       |      3,37%   |\n",
    "5  |   cesar      |     0,94 MB       |      0,04%   |\n",
    "6  |   rosemary   |   752,88 MB       |     29,16%   |\n",
    "\n",
    "\n",
    "<center>Espaço total ocupado: 2581,57 MB<br>\n",
    "<center>Espaço médio ocupado: 430,26 MB<br>\n",
    "    \n",
    "        O arquivo de entrada deve ser lido uma única vez, e os dados armazenados em memória, caso sejam necessários, de forma a agilizar a execução do programa. A conversão da espaço ocupado em disco, de bytes para megabytes deverá ser feita através de uma função separada, que será chamada pelo programa principal. O cálculo do percentual de uso também deverá ser feito através de uma função, que será chamada pelo programa principal. \n"
   ]
  },
  {
   "cell_type": "markdown",
   "metadata": {},
   "source": [
    "Questões retiradas da [wikipython](https://wiki.python.org.br/ExerciciosArquivos)"
   ]
  },
  {
   "cell_type": "code",
   "execution_count": null,
   "metadata": {},
   "outputs": [],
   "source": []
  }
 ],
 "metadata": {
  "kernelspec": {
   "display_name": "Python 3",
   "language": "python",
   "name": "python3"
  },
  "language_info": {
   "codemirror_mode": {
    "name": "ipython",
    "version": 3
   },
   "file_extension": ".py",
   "mimetype": "text/x-python",
   "name": "python",
   "nbconvert_exporter": "python",
   "pygments_lexer": "ipython3",
   "version": "3.7.4"
  }
 },
 "nbformat": 4,
 "nbformat_minor": 2
}
