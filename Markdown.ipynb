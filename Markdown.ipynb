{
 "cells": [
  {
   "cell_type": "markdown",
   "metadata": {},
   "source": [
    "![logo](https://img.elo7.com.br/product/main/1C78BA7/poster-brasao-uff-advogado.jpg)\n",
    "\n",
    "    \n",
    " \n",
    " ### Professora orientadora: Leila weitzel\n",
    " ### Alunos: Ruan de Almeida"
   ]
  },
  {
   "cell_type": "markdown",
   "metadata": {},
   "source": [
    "## **Sumário**\n",
    "----\n",
    "> ### 1. Titulos\n",
    "> ### 2. Formatação de textos\n",
    "> ### 3. Inserção de imagens\n",
    "> ### 4. Inserção de links\n"
   ]
  },
  {
   "cell_type": "markdown",
   "metadata": {},
   "source": [
    "\n",
    "## Tutorial básico de markdown\n",
    "    \n",
    " **Ao passar deste documento vou explicar funções básicas do markdown e algumas vantagens de utilizar o markdown**\n",
    "   \n",
    "   "
   ]
  },
  {
   "cell_type": "markdown",
   "metadata": {},
   "source": [
    " Uma das informações principais que você deve saber, é que o markdown é um html bem simplificado, só que mesmo sendo \n",
    "simplificado, você também pode utilizar a mescla de markdown e hmtl nos arquivos. Pois tem funcionalidades que são bem mais\n",
    "complexas que o markdown não apresenta cobertura."
   ]
  },
  {
   "cell_type": "markdown",
   "metadata": {},
   "source": [
    "- ### [Título]\n",
    "----"
   ]
  },
  {
   "cell_type": "markdown",
   "metadata": {},
   "source": [
    "No markdown os títulos são feitos atráves de \"#\", os h1;h2;h3 e afins foram substituidos pelos \"#\" e quanto mais \"#\" você desce \n",
    "mais na hierarquia de títulos."
   ]
  },
  {
   "cell_type": "markdown",
   "metadata": {},
   "source": [
    "\n",
    "# # Título1 (h1)\n",
    "## ##Título 2 (h2)\n",
    "### ###Título 3  (h3)\n",
    ">"
   ]
  },
  {
   "cell_type": "markdown",
   "metadata": {},
   "source": [
    "- ### [Formatação]\n",
    "----"
   ]
  },
  {
   "cell_type": "markdown",
   "metadata": {},
   "source": [
    "\n",
    "Para deixar qualquer parte em negrito: `**texto**` ou `__texto__`<br>\n",
    "> **texto** ou __texto__\n",
    "\n",
    "Para centralizar qualquer conteúdo utiliza-se a tag `<center>`<br>\n",
    "> <center> Texto\n",
    "\n",
    "Para deixar em itálico: `*texto*` ou `_texto_`<br>\n",
    "> *texto* ou _texto_\n",
    "\n",
    "Para utilizar símbolos matématicos: `$texto$`<br>\n",
    "> $X$\n",
    "\n",
    "Para riscar uma linha você utiliza: `~~ texto ~~`<br>\n",
    ">~~texto~~\n",
    "\n",
    "Como o markdown não tem função especifica para pular linha, utiliza-se `<br>`<br>\n",
    "\n",
    "Para mudar a cor do texto utiliza-se: `<font color=blue|red|green|pink|yellow>Text</font>` (com percauto, pois tem alguns textos que não funciona).<br>\n",
    "><font color = red> texto</font>\n",
    "\n",
    "`(>)` Faz com que o texto fique recuado e fique parecido como se fosse uma citação.<br>\n",
    ">1\n",
    ">>2\n",
    ">>>3\n",
    "\n",
    "`(-)` Cria marcadores se você posicionar antes da frase.<br>\n",
    "> - texto\n",
    "\n",
    "`1.` ao invés de utilizar um dot como marcador, você pode utilzar números, só ir de forma crescente e um espaço logo depois do número.<br>\n",
    "> 1. texto\n",
    "\n",
    "E possível criar uma linha horizontal através do: `***` <br>\n",
    "> ***\n",
    "\n"
   ]
  },
  {
   "cell_type": "markdown",
   "metadata": {},
   "source": [
    "- ### [Imagem e objetos gráficos]\n",
    "----"
   ]
  },
  {
   "cell_type": "markdown",
   "metadata": {},
   "source": [
    "Outro ponto importante, o markdown possui um meio de adicionar imagens ao arquivo, só que não possui um meio de você ajustar essa imagem dentro do código, portanto o html pode ser uma boa opção.<br><br><br>\n",
    "HTML:`<img src=\"url da imagem\" alt=\"uma descrição da imagem\" width=\"largura\" height=\"altura\" title=\"titulo da imagem\" />`<br>\n",
    "> <img src=\"https://media.giphy.com/media/qgkrtsDy4MhLq/giphy.gif\" width=\"200px\" height=\"200px\" alt=\"pikachu supreso\" title=\"oloco bixo\" /><br>\n",
    "\n",
    "Markdown:`![alt text](https://media.giphy.com/media/qgkrtsDy4MhLq/giphy.gif)`\n",
    "> ![](https://media.giphy.com/media/qgkrtsDy4MhLq/giphy.gif)"
   ]
  },
  {
   "cell_type": "markdown",
   "metadata": {},
   "source": [
    "- ### [Links e Objetos geomêtricos]\n",
    "----"
   ]
  },
  {
   "cell_type": "markdown",
   "metadata": {},
   "source": [
    "Para adicionar links externos, utiliza-se: `[section title](#section-title)` se desejar colocar uma palavra como link ou algo parecido, se não for isso que deseja, pode colocar o link direto.<br>\n",
    ">[pikachu](#https://giphy.com/gifs/pokemon-what-pikachu-qgkrtsDy4MhLq/links)<br>\n",
    "ou<br>\n",
    ">https://giphy.com/gifs/pokemon-what-pikachu-qgkrtsDy4MhLq/links\n",
    "\n",
    "Para a utilização de objetos gêometricos da tabela [UTF-8 Geometric Shapes](#https://www.w3schools.com/charsets/ref_utf_geometric.asp), utiliza-se: `&#reference_number;`<br>\n",
    "> &#9632;"
   ]
  },
  {
   "cell_type": "markdown",
   "metadata": {},
   "source": [
    "- ### [Tabelas]\n",
    "----"
   ]
  },
  {
   "cell_type": "markdown",
   "metadata": {},
   "source": [
    "A construção de tabelas em markdown é bem diferente, você utiliza (---) para a construção de cabeçalho de coluna, e utiliza \n",
    "(|) para separar as diferentes colunas. E um pouco complicado, mas também tem o modo de ser feito através do html padrão que\n",
    "é a s tags `<td>` que cria colunas, e `<tr>` que cria linhas."
   ]
  },
  {
   "cell_type": "markdown",
   "metadata": {},
   "source": [
    "Ex:\n",
    "\n",
    "                                                 | Syntax      | Description |\n",
    "                                                 | ----------- | ----------- |\n",
    "                                                 | Header      | Title       |\n",
    "                                                 | Paragraph   | Text        |\n",
    " "
   ]
  },
  {
   "cell_type": "markdown",
   "metadata": {},
   "source": [
    "| Syntax      | Description |\n",
    "| ----------- | ----------- |\n",
    "| Header      | Title       |\n",
    "| Paragraph   | Text        |\n",
    " "
   ]
  },
  {
   "cell_type": "markdown",
   "metadata": {},
   "source": [
    "1.    #### [Alinhamento]"
   ]
  },
  {
   "cell_type": "markdown",
   "metadata": {},
   "source": [
    "O alinhamento dentro das tabelas é bem simples também: (:--) alinhado a esquerda (:---:) centralizado (---:) alinhado a esquerda\n"
   ]
  },
  {
   "cell_type": "markdown",
   "metadata": {},
   "source": [
    "Ex: \n",
    "    \n",
    "                                        | Syntax      | Description | Test Text     |\n",
    "                                        | :---        |    :----:   |          ---: |\n",
    "                                        | Header      | Title       | Here's this   |\n",
    "                                        | Paragraph   | Text        | And more      |\n",
    "\n",
    "    "
   ]
  },
  {
   "cell_type": "markdown",
   "metadata": {},
   "source": [
    "| Syntax      | Description | Test Text     |\n",
    "| :---        |    :----:   |          ---: |\n",
    "| Header      | Title       | Here's this   |\n",
    "| Paragraph   | Text        | And more      |\n"
   ]
  },
  {
   "cell_type": "markdown",
   "metadata": {},
   "source": [
    "- ### [Representação de lista de tarefas]\n",
    "----"
   ]
  },
  {
   "cell_type": "markdown",
   "metadata": {},
   "source": [
    "Você pode representar uma lista e tarefas com checkboxes:\n",
    "\n",
    "\n",
    "    - [x] Write the press release\n",
    "    - [ ] Update the website\n",
    "    - [ ] Contact the media"
   ]
  },
  {
   "cell_type": "markdown",
   "metadata": {},
   "source": [
    ">\n",
    ">- [x] Write the press release\n",
    ">- [ ] Update the website\n",
    ">- [ ] Contact the media"
   ]
  }
 ],
 "metadata": {
  "kernelspec": {
   "display_name": "Python 3",
   "language": "python",
   "name": "python3"
  },
  "language_info": {
   "codemirror_mode": {
    "name": "ipython",
    "version": 3
   },
   "file_extension": ".py",
   "mimetype": "text/x-python",
   "name": "python",
   "nbconvert_exporter": "python",
   "pygments_lexer": "ipython3",
   "version": "3.7.4"
  }
 },
 "nbformat": 4,
 "nbformat_minor": 2
}
